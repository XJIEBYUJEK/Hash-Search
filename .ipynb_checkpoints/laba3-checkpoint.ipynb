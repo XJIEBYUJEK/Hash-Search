{
 "cells": [
  {
   "cell_type": "code",
   "execution_count": 1,
   "metadata": {
    "pycharm": {
     "is_executing": false
    }
   },
   "outputs": [],
   "source": [
    "from faker import Faker\n",
    "import numpy.random as npr\n",
    "from dataclasses import dataclass\n",
    "import numpy as np\n",
    "from datetime import datetime\n",
    "from time import sleep\n",
    "from matplotlib import pyplot as plt\n",
    "from collections import defaultdict\n",
    "from time import time"
   ]
  },
  {
   "cell_type": "markdown",
   "metadata": {},
   "source": [
    "# Лабораторная работа №3"
   ]
  },
  {
   "cell_type": "markdown",
   "metadata": {},
   "source": [
    "## Вариант 12."
   ]
  },
  {
   "cell_type": "code",
   "execution_count": 2,
   "metadata": {
    "pycharm": {
     "is_executing": false
    }
   },
   "outputs": [],
   "source": [
    "sizes = (100, 500, 1000, 5000, 10000, 30000, 100000)\n",
    "clubsList = (\"Россия Спартак-Владикавказ Владикавказ \",\n",
    "\"Россия Рубин Казань \",\n",
    "\"Россия Сочи Сочи \",\n",
    "\"Россия Енисей Красноярск \",\n",
    "\"Россия Звезда Пермь \",\n",
    "\"Россия Балтика Калининград \",\n",
    "\"Россия СКА-Хабаровск Хабаровск \",\n",
    "\"Россия Салют Белгород \",\n",
    "\"Россия Динамо Брянск \",\n",
    "\"Россия Торпедо Владимир \",\n",
    "\"Россия Ротор-Волгоград Волгоград \",\n",
    "\"Россия Факел Воронеж \",\n",
    "\"Россия Металлург Липецк \",\n",
    "\"Россия Химки Химки \",\n",
    "\"Россия Сибирь Новосибирск \",\n",
    "\"Россия Авангард Курск \",\n",
    "\"Россия Ростов Ростов \",\n",
    "\"Россия Крылья-советов Самара \",\n",
    "\"Россия Сокол Саратов \",\n",
    "\"Россия Урал Екатеренбург \",\n",
    "\"Россия Днепр Смоленск \",\n",
    "\"Россия Шинник Ярославль \",\n",
    "\"Россия Динамо  Москва \",\n",
    "\"Россия Зенит Санкт-Петербург \",\n",
    "\"Россия ЦСКА Москва \",\n",
    "\"Россия Спартак Москва \",\n",
    "\"Россия Локомотив Москва \",\n",
    "\"Украина Шахтер Донецк \",\n",
    "\"Украина Динамо Киев \",\n",
    "\"Украина Заря Луганск \",\n",
    "\"Украина Десна Чернигов \",\n",
    "\"Украина Кривбасс Кривой-Рог \",\n",
    "\"Украина Днепр Днепропетровск \",\n",
    "\"Украина Верес Львов \",\n",
    "\"Украина Звезда Кировоград \",\n",
    "\"Украина Черноморец Одесса \",\n",
    "\"Украина Оболонь Киев \",\n",
    "\"Украина Металлист Харьков \",\n",
    "\"Украина Нефтяник-Укрнефть Ахтырка \",\n",
    "\"Украина Сталь Алчевск \",\n",
    "\"Украина Арсенал Киев \",\n",
    "\"Украина Олимпик Донецк \",\n",
    "\"Украина Металлург Донецк \",\n",
    "\"Украина Львов Львов \",\n",
    "\"Украина Металлург Запорожье \",\n",
    "\"Украина Карпаты Львов \",\n",
    "\"Украина Волынь Луцк \",\n",
    "\"Украина Ворскла Полтава \",\n",
    "\"Украина Харьков Харьков \",\n",
    "\"Украина Говерла-Закарпатье Ужгород \")"
   ]
  },
  {
   "cell_type": "markdown",
   "metadata": {},
   "source": [
    "### 1. Создание класса и перегрузка его операторов"
   ]
  },
  {
   "cell_type": "code",
   "execution_count": 3,
   "metadata": {
    "pycharm": {
     "is_executing": false
    }
   },
   "outputs": [],
   "source": [
    "@dataclass\n",
    "class Club:\n",
    "    \"\"\"\n",
    "    Датакласс, отвечающий за инициализацию объектов типа Club.\n",
    "    Инициализация происходит посредством передачи в конструктор класса параметров ниже.\n",
    "    \"\"\"        \n",
    "    clubCountry: str\n",
    "    clubName: str\n",
    "    clubCity: str\n",
    "    clubYear: str\n",
    "    coachName: str\n",
    "    clubResult: str\n",
    "    \n",
    "    # Перегрузка оператора '>'\n",
    "    def __gt__(self, other):\n",
    "       \n",
    "        if self.clubName > other.clubName:\n",
    "            return True\n",
    "        elif self.clubName == other.clubName:\n",
    "            if int(self.clubResult) > int(other.clubResult):\n",
    "                return True\n",
    "            elif int(self.clubResult) == int(other.clubResult):\n",
    "                if self.coachName > other.coachName:\n",
    "                    return True\n",
    "        return False\n",
    "    \n",
    "    # Перегрузка оператора '>='\n",
    "    def __ge__(self, other):\n",
    "        if self.clubName >= other.clubName:\n",
    "            return True\n",
    "        elif self.clubName == other.clubName:\n",
    "            if int(self.clubResult) >= int(other.clubResult):\n",
    "                return True\n",
    "            elif int(self.clubResult) == int(other.clubResult):\n",
    "                if self.coachName >= other.coachName:\n",
    "                    return True\n",
    "        return False \n",
    "    \n",
    "    # Перегрузка оператора '<'\n",
    "    def __lt__(self, other):\n",
    "        if self.clubName < other.clubName:\n",
    "            return True\n",
    "        elif self.clubName == other.clubName:\n",
    "            if int(self.clubResult) < int(other.clubResult):\n",
    "                return True\n",
    "            elif int(self.clubResult) == int(other.clubResult):\n",
    "                if self.coachName < other.coachName:\n",
    "                    return True\n",
    "        return False\n",
    "    \n",
    "    # Перегрузка оператора '<='\n",
    "    def __le__(self, other):\n",
    "        if self.clubName <= other.clubName:\n",
    "            return True\n",
    "        elif self.clubName == other.clubName:\n",
    "            if int(self.clubResult) <= int(other.clubResult):\n",
    "                return True\n",
    "            elif int(self.clubResult) == int(other.clubResult):\n",
    "                if self.coachName <= other.coachName:\n",
    "                    return True\n",
    "        return False\n",
    "     \n",
    "    # Создание метода для перевода класса в тип String    \n",
    "    def toStr(self):\n",
    "        return ' '.join(self.__dict__.values())   \n"
   ]
  },
  {
   "cell_type": "markdown",
   "metadata": {},
   "source": [
    "### 2. Создание масивов данных"
   ]
  },
  {
   "cell_type": "code",
   "execution_count": 4,
   "metadata": {
    "pycharm": {
     "is_executing": false
    }
   },
   "outputs": [],
   "source": [
    "clubs = {}\n",
    "for i, size in enumerate(sizes):\n",
    "    with open(f'data/data{size}.txt') as arr:\n",
    "        clubs[i] = np.empty(size, dtype=Club)\n",
    "        for j, string in enumerate(arr.read()[:-1].split('\\n')):\n",
    "            data = string.split()\n",
    "            clubs[i][j] = Club(\n",
    "                clubCountry = data[0],\n",
    "                clubName = data[1],\n",
    "                clubCity = data[2],\n",
    "                clubYear = data[3],\n",
    "                coachName = ' '.join(data[4:7]),\n",
    "                clubResult = data[7]\n",
    "            )"
   ]
  },
  {
   "cell_type": "markdown",
   "metadata": {},
   "source": [
    "### 3. Линейный поиск"
   ]
  },
  {
   "cell_type": "code",
   "execution_count": 5,
   "metadata": {
    "pycharm": {
     "is_executing": false
    }
   },
   "outputs": [],
   "source": [
    "def linearSearch(data, x):                         \n",
    "    \"\"\"Прямой(линейный) поиск\n",
    "    linearSearch(array, x) -> index\n",
    "    data - массив\n",
    "    x - искомый элемент\n",
    "    \n",
    "    \"\"\"\n",
    "    array = []\n",
    "    for element in data:         \n",
    "        if element.clubName == x:                           \n",
    "            array.append(element)\n",
    "    return array                                     "
   ]
  },
  {
   "cell_type": "markdown",
   "metadata": {},
   "source": [
    "### 4. Бинарный поиск"
   ]
  },
  {
   "cell_type": "code",
   "execution_count": 6,
   "metadata": {
    "pycharm": {
     "is_executing": false
    }
   },
   "outputs": [],
   "source": [
    "def binarySearch(data, x):                         \n",
    "    \"\"\"Бинарный поиск\n",
    "    binarySearch(data, x) -> index\n",
    "    data - массив\n",
    "    x - искомый элемент\n",
    "\n",
    "    \"\"\"\n",
    "    array = []\n",
    "    # Устанавливаем границы и середину поиска\n",
    "    left = 0                                        \n",
    "    right = len(data) - 1                          \n",
    "    middle = right // 2 \n",
    "    # Меняем границы нашего поиска до тех пор, пока искомый элемент не будет находится\n",
    "    # в середине нашего поиска\n",
    "    while data[middle].clubName != x and left < right:  \n",
    "        if x > data[middle].clubName:                       \n",
    "            left = middle + 1                        \n",
    "        else:                                       \n",
    "            right = middle - 1                      \n",
    "        middle = (left+right) // 2 \n",
    "    # Как только нашли искомый элемент, проверяем соседние элементы\n",
    "    if data[middle].clubName == x:\n",
    "        array.append(data[middle])\n",
    "        left = middle - 1\n",
    "        while data[left].clubName == x:\n",
    "            array.append(data[left])\n",
    "            left -= 1\n",
    "            # Проверка на левую границу массива\n",
    "            if left < 0:\n",
    "                break\n",
    "        right = middle + 1\n",
    "        while data[right].clubName == x:\n",
    "            array.append(data[right])\n",
    "            right += 1\n",
    "            # Проверка на правую границу массива\n",
    "            if right > len(data) - 1:\n",
    "                break\n",
    "    return array     "
   ]
  },
  {
   "cell_type": "markdown",
   "metadata": {},
   "source": [
    "### 5. Multimap"
   ]
  },
  {
   "cell_type": "code",
   "execution_count": 7,
   "metadata": {
    "pycharm": {
     "is_executing": false
    }
   },
   "outputs": [],
   "source": [
    "def multimapCreation(array):\n",
    "    \"\"\"Функция для создания multimap\n",
    "    multimapCreation(array) -> dict\n",
    "    array - массив данных\n",
    "    multimap - словарь ключ: [значения]    \n",
    "    \"\"\"\n",
    "    keys = map(lambda x: x.clubName, array)\n",
    "    keys_array = zip(keys, array) \n",
    "    multimap = defaultdict(list)\n",
    "    for k, v in keys_array:\n",
    "        multimap[k].append(v)    \n",
    "    return multimap        \n",
    "\n",
    "# ключ1: [элемент1, элемент 2]"
   ]
  },
  {
   "cell_type": "markdown",
   "metadata": {},
   "source": [
    "### 6. Простая и сложна функция получения хэша строки"
   ]
  },
  {
   "cell_type": "code",
   "execution_count": 8,
   "metadata": {
    "pycharm": {
     "is_executing": false
    }
   },
   "outputs": [],
   "source": [
    "def simpleHash(data, p = 61):\n",
    "    \"\"\"Простая функция получения хэша строки \"\"\"\n",
    "    hashValue = ord(data[0])\n",
    "    p_pow = 1\n",
    "    for i in range(1, len(data)):\n",
    "        hashValue += (ord(data[i]))*p_pow\n",
    "        p_pow = p_pow*p\n",
    "    return hashValue\n",
    "\n",
    "def lyHash(data):\n",
    "    \"\"\"ly функция получения хэша строки\"\"\"\n",
    "    hashValue = 0\n",
    "    for i in range(0,len(data)):\n",
    "        hashValue = (hashValue * 1664525) + ord(data[i]) * 1013904223\n",
    "    return hashValue\n"
   ]
  },
  {
   "cell_type": "markdown",
   "metadata": {},
   "source": [
    "### 7. Коллизии: метод двойного хэширования"
   ]
  },
  {
   "cell_type": "code",
   "execution_count": 9,
   "metadata": {
    "pycharm": {
     "is_executing": false
    }
   },
   "outputs": [],
   "source": [
    "def hashCollision(data, p = 53):\n",
    "    \"\"\"Функция получения хэша строки для doubleHashing\"\"\"\n",
    "    hashValue = ord(data[0])\n",
    "    p_pow = 1\n",
    "    for i in range(1, len(data)):\n",
    "        hashValue += (ord(data[i]))*p_pow\n",
    "        p_pow = p_pow*p\n",
    "    return hashValue\n",
    "\n",
    "def doubleHashing(data, alg, i):\n",
    "    \"\"\"Функция для двойного хэширования\"\"\"\n",
    "    \n",
    "    if alg == 'simple':\n",
    "        mod = 2**200\n",
    "        x = simpleHash(data)\n",
    "        y = hashCollision(data)\n",
    "        hashValue = (x+y*i)%mod\n",
    "        \n",
    "    if alg == 'ly':\n",
    "        mod = 2**500\n",
    "        x = lyHash(data)\n",
    "        y = hashCollision(data)\n",
    "        hashValue = (x+y*i)%mod\n",
    "    \n",
    "    return hashValue"
   ]
  },
  {
   "cell_type": "markdown",
   "metadata": {},
   "source": [
    "### 8. Описание класса для поиска с помощью \"простой\" хэш-функции"
   ]
  },
  {
   "cell_type": "code",
   "execution_count": 22,
   "metadata": {
    "pycharm": {
     "is_executing": false
    }
   },
   "outputs": [],
   "source": [
    "class SimpleHash:\n",
    "    \"\"\"Класс для поиска по хэшу с простой функцией\n",
    "        array (defaultdict)- хэш \n",
    "        numberOfCollisions (int)- количество коллизий\n",
    "    \"\"\"\n",
    "    \n",
    "    def __init__(self):\n",
    "        self.array = defaultdict(list)\n",
    "        self.numberOfCollisions = 0\n",
    "           \n",
    "    def add(self, object):\n",
    "        \"\"\"Добавление элемента в хэш-таблицу с простым алгоритмом хэширования\"\"\"\n",
    "        hashValue = simpleHash(object.clubName)\n",
    "        i = 1\n",
    "        while (hashValue in self.array) and (object.clubName != self.get_hash(hashValue)[0].clubName):\n",
    "            self.numberOfCollisions+=1\n",
    "            hashValue = doubleHashing(object.clubName, 'simple', i)\n",
    "            i += 1                        \n",
    "        self.array[hashValue].append(object)\n",
    "        \n",
    "    def get_hash(self, hashValue):\n",
    "        \"\"\"Поиск элемента по хэшу\"\"\"\n",
    "        if self.array[hashValue] is None:\n",
    "            print(\"Элемент не найдет\")\n",
    "            return [0]\n",
    "        else: \n",
    "            return self.array[hashValue]\n",
    "\n",
    "    def get_key(self, key):\n",
    "        \"\"\"Поиск элемента по строке ключа\"\"\"\n",
    "        hashValue = simpleHash(key)\n",
    "        i = 1\n",
    "        if len(self.array[hashValue]) > 0:\n",
    "            while key != self.get_hash(hashValue)[0].clubName:\n",
    "                hashValue = doubleHashing(object.clubName, 'simple', i)\n",
    "                i += 1    \n",
    "        return self.array[hashValue]"
   ]
  },
  {
   "cell_type": "markdown",
   "metadata": {},
   "source": [
    "### 8. Описание класса для поиска с помощью \"сложной\" хэш-функции"
   ]
  },
  {
   "cell_type": "code",
   "execution_count": 23,
   "metadata": {
    "pycharm": {
     "is_executing": false
    }
   },
   "outputs": [],
   "source": [
    "class LyHash:\n",
    "    \"\"\"Класс для поиска по хэшу с сложной функцией\n",
    "        array (defaultdict)- хэш \n",
    "        numberOfCollisions (int)- количество коллизий\n",
    "    \"\"\"\n",
    "    \n",
    "    def __init__(self):\n",
    "        self.array = defaultdict(list)\n",
    "        self.numberOfCollisions = 0\n",
    "\n",
    "    def add(self, object):\n",
    "        \"\"\"Добавление элемента в хэш-таблицу с ly алгоритмом хэширования\"\"\"\n",
    "        hashValue = lyHash(object.clubName)\n",
    "        i = 1\n",
    "        while (hashValue in self.array) and (object.clubName != self.get_hash(hashValue)[0].clubName):\n",
    "            self.numberOfCollisions += 1\n",
    "            hashValue = doubleHashing(object.clubName, 'ly', i)\n",
    "            i+=1                        \n",
    "        self.array[hashValue].append(object)\n",
    "\n",
    "    def get_hash(self, hashValue):\n",
    "        \"\"\"Поиск элемента по хэшу\"\"\"\n",
    "        if self.array[hashValue] is None:\n",
    "            print(\"Элемент не найдет\")\n",
    "            return [0]\n",
    "        else: \n",
    "            return self.array[hashValue]\n",
    "\n",
    "    def get_key(self, key):\n",
    "        \"\"\"Поиск элемента по строке ключа\"\"\"\n",
    "        hashValue = lyHash(key)\n",
    "        i = 1\n",
    "        if len(self.array[hashValue]) != 0:\n",
    "            while key != self.get_hash(hashValue)[0].clubName:\n",
    "                hashValue = doubleHashing(object.clubName, 'ly', i)\n",
    "                i+=1    \n",
    "        return self.array[hashValue]"
   ]
  },
  {
   "cell_type": "markdown",
   "metadata": {},
   "source": [
    "### 10. Реализация поисков "
   ]
  },
  {
   "cell_type": "code",
   "execution_count": 24,
   "metadata": {
    "pycharm": {
     "is_executing": false
    }
   },
   "outputs": [
    {
     "name": "stdout",
     "output_type": "stream",
     "text": [
      "\n",
      "Размер: 100\tЗапись: Салют\n",
      "Прямой поиск.\t\t\t2\n",
      "Бинарный поиск.\t\t\t2\n",
      "Поиск по ключу.\t\t\t2\n",
      "Простой хэш.\t\t\t2\n",
      "Сложный хэш.\t\t\t2\n",
      "\n",
      "Размер: 500\tЗапись: Металлург\n",
      "Прямой поиск.\t\t\t34\n",
      "Бинарный поиск.\t\t\t34\n",
      "Поиск по ключу.\t\t\t34\n",
      "Простой хэш.\t\t\t34\n",
      "Сложный хэш.\t\t\t34\n",
      "\n",
      "Размер: 1000\tЗапись: Звезда\n",
      "Прямой поиск.\t\t\t45\n",
      "Бинарный поиск.\t\t\t45\n",
      "Поиск по ключу.\t\t\t45\n",
      "Простой хэш.\t\t\t45\n",
      "Сложный хэш.\t\t\t45\n",
      "\n",
      "Размер: 5000\tЗапись: Ростов\n",
      "Прямой поиск.\t\t\t111\n",
      "Бинарный поиск.\t\t\t111\n",
      "Поиск по ключу.\t\t\t111\n",
      "Простой хэш.\t\t\t111\n",
      "Сложный хэш.\t\t\t111\n",
      "\n",
      "Размер: 10000\tЗапись: Волынь\n",
      "Прямой поиск.\t\t\t212\n",
      "Бинарный поиск.\t\t\t212\n",
      "Поиск по ключу.\t\t\t212\n",
      "Простой хэш.\t\t\t212\n",
      "Сложный хэш.\t\t\t212\n",
      "\n",
      "Размер: 30000\tЗапись: Звезда\n",
      "Прямой поиск.\t\t\t1162\n",
      "Бинарный поиск.\t\t\t1162\n",
      "Поиск по ключу.\t\t\t1162\n",
      "Простой хэш.\t\t\t1162\n",
      "Сложный хэш.\t\t\t1162\n",
      "\n",
      "Размер: 100000\tЗапись: Днепр\n",
      "Прямой поиск.\t\t\t3929\n",
      "Бинарный поиск.\t\t\t3929\n",
      "Поиск по ключу.\t\t\t3929\n",
      "Простой хэш.\t\t\t3929\n",
      "Сложный хэш.\t\t\t3929\n"
     ]
    }
   ],
   "source": [
    "linearTiming = []\n",
    "binaryTiming = []\n",
    "sortBinaryTiming = []\n",
    "keyTiming = []\n",
    "keysList = []\n",
    "simpleHashTiming = []\n",
    "lyHashTiming = []\n",
    "simpleCollisions = []\n",
    "lyCollisions = []\n",
    "\n",
    "for club in clubsList:\n",
    "    keysList.append(club.split(' ')[1])\n",
    "\n",
    "for i, size in enumerate(sizes):\n",
    "    clubsCopy = clubs[i].copy()\n",
    "    randomKey = npr.choice(keysList)\n",
    "    #randomKey = clubs[i][npr.randint(0, size)].coachName.split(' ')[0]\n",
    "    print(f'\\nРазмер: {size}\\tЗапись: {randomKey}') \n",
    "    \n",
    "    # Прямой и Бинарный поиск\n",
    "    linearTime, binaryTime = 0, 0\n",
    "    for _ in range(500):   \n",
    "        check = time()\n",
    "        linearArray = linearSearch(clubsCopy, randomKey)\n",
    "        linearTime += time() - check\n",
    "\n",
    "        check = time()\n",
    "        binaryArray = binarySearch(clubsCopy, randomKey)\n",
    "        binaryTime += time() - check\n",
    "    \n",
    "    linearTime /= 500\n",
    "    binaryTime /= 500\n",
    "    linearTiming.append(linearTime)\n",
    "    binaryTiming.append(binaryTime)\n",
    "    with open(f'linear/linear{size}.txt', 'w') as file:\n",
    "        file.write('\\n'.join(map(' '.join, map(lambda e: e.__dict__.values(), linearArray))))\n",
    "    print(f'Прямой поиск.\\t\\t\\t{len(linearArray)}')    \n",
    "    with open(f'binary/binary{size}.txt', 'w') as file:\n",
    "        file.write('\\n'.join(map(' '.join, map(lambda e: e.__dict__.values(), binaryArray))))\n",
    "    print(f'Бинарный поиск.\\t\\t\\t{len(binaryArray)}')\n",
    "    \n",
    "    \n",
    "    # Поис по ключу\n",
    "    keyTime = 0\n",
    "    multimap = multimapCreation(clubsCopy)\n",
    "    for _ in range(10000):\n",
    "        check = time()\n",
    "        multimap[randomKey]\n",
    "        keyTime += time() - check\n",
    "    keyTime /= 10000\n",
    "    keyTiming.append(keyTime)\n",
    "    with open(f'multimap/multimap{size}.txt', 'w') as file:\n",
    "        file.write('\\n'.join(map(' '.join, map(lambda e: e.__dict__.values(), multimap[randomKey]))))  \n",
    "    print(f'Поиск по ключу.\\t\\t\\t{len(multimap[randomKey])}') \n",
    "        \n",
    "        \n",
    "    # Простая хэш-функция  \n",
    "    simpleHashTime = 0\n",
    "    simple = SimpleHash()\n",
    "    for element in clubsCopy:\n",
    "        simple.add(element)    \n",
    "    for _ in range(100000):        \n",
    "        check = time()\n",
    "        simpleHashArray = simple.get_key(randomKey)\n",
    "        simpleHashTime += time() - check        \n",
    "    simpleHashTime /= 100000       \n",
    "    with open(f'simpleHash/simpleHash{size}.txt', 'w') as file:\n",
    "        file.write('\\n'.join(map(' '.join, map(lambda e: e.__dict__.values(), simpleHashArray))))\n",
    "    print(f'Простой хэш.\\t\\t\\t{len(simpleHashArray)}') \n",
    "\n",
    "    simpleCollisions.append(simple.numberOfCollisions)\n",
    "    simpleHashTiming.append(simpleHashTime)\n",
    "    \n",
    "    # Сложная хэш-функция\n",
    "    lyHashTime = 0\n",
    "    ly = LyHash()\n",
    "    for element in clubsCopy:\n",
    "        ly.add(element)    \n",
    "    for _ in range(100000):        \n",
    "        check = time()\n",
    "        lyHashArray = ly.get_key(randomKey)\n",
    "        lyHashTime += time() - check      \n",
    "    lyHashTime /= 100000    \n",
    "    with open(f'lyHash/lyHash{size}.txt', 'w') as file:\n",
    "        file.write('\\n'.join(map(' '.join, map(lambda e: e.__dict__.values(), lyHashArray))))\n",
    "    print(f'Сложный хэш.\\t\\t\\t{len(lyHashArray)}') \n",
    "\n",
    "    lyCollisions.append(ly.numberOfCollisions)\n",
    "    lyHashTiming.append(lyHashTime)\n",
    "    \n",
    "     \n",
    "   "
   ]
  },
  {
   "cell_type": "markdown",
   "metadata": {},
   "source": [
    "### 11. Построение графиков"
   ]
  },
  {
   "cell_type": "code",
   "execution_count": 18,
   "metadata": {
    "pycharm": {
     "is_executing": false
    }
   },
   "outputs": [
    {
     "data": {
      "image/png": "[encoded data removed]",
      "text/plain": [
       "<Figure size 1440x720 with 1 Axes>"
      ]
     },
     "metadata": {
      "needs_background": "light"
     },
     "output_type": "display_data"
    }
   ],
   "source": [
    "fig, ax = plt.subplots(figsize=(20, 10))\n",
    "ax.plot(sizes, linearTiming, label='Прямой поиск')\n",
    "ax.plot(sizes, binaryTiming, label='Бинарный поиск')\n",
    "ax.plot(sizes, keyTiming, label='Поиск по ключу')\n",
    "ax.plot(sizes, lyHashTiming, 'o', label='Сложная хэш-функция')\n",
    "ax.plot(sizes, simpleHashTiming, '--', label='Простая хэш-функция')\n",
    "ax.grid()\n",
    "ax.legend()\n",
    "ax.set_title('Сравнение времени поиска в зависимости от объема данных');"
   ]
  },
  {
   "cell_type": "markdown",
   "metadata": {},
   "source": [
    " "
   ]
  },
  {
   "cell_type": "code",
   "execution_count": 19,
   "metadata": {
    "pycharm": {
     "is_executing": false
    }
   },
   "outputs": [
    {
     "data": {
      "image/png": "[encoded data removed]",
      "text/plain": [
       "<Figure size 1440x720 with 1 Axes>"
      ]
     },
     "metadata": {
      "needs_background": "light"
     },
     "output_type": "display_data"
    }
   ],
   "source": [
    "fig, ax = plt.subplots(figsize=(20, 10))\n",
    "ax.plot(sizes, simpleCollisions,'-o', label = 'Простой Хэш')\n",
    "ax.plot(sizes, lyCollisions, label = 'Сложный Хэш')\n",
    "ax.legend()\n",
    "ax.set_title('Сравнение количества коллизий в зависимости от объема данных');"
   ]
  },
  {
   "cell_type": "markdown",
   "metadata": {},
   "source": [
    "### 12. Вероятность коллизий для простого алгоритма"
   ]
  },
  {
   "cell_type": "code",
   "execution_count": 21,
   "metadata": {},
   "outputs": [
    {
     "name": "stdout",
     "output_type": "stream",
     "text": [
      "0.0% коллиизий(0) при выборке размера 100\n",
      "0.4% коллиизий(2) при выборке размера 500\n",
      "0.3% коллиизий(3) при выборке размера 1000\n",
      "0.58% коллиизий(29) при выборке размера 5000\n",
      "0.8% коллиизий(80) при выборке размера 10000\n",
      "0.8% коллиизий(241) при выборке размера 30000\n",
      "0.82% коллиизий(825) при выборке размера 100000\n"
     ]
    }
   ],
   "source": [
    "for i, element in enumerate(simpleCollisions):\n",
    "    percent = np.round(100*element/sizes[i], 2)\n",
    "    print(f'{percent}% коллиизий({element}) при выборке размера {sizes[i]}')"
   ]
  },
  {
   "cell_type": "code",
   "execution_count": null,
   "metadata": {},
   "outputs": [],
   "source": []
  }
 ],
 "metadata": {
  "kernelspec": {
   "display_name": "Python 3",
   "language": "python",
   "name": "python3"
  },
  "language_info": {
   "codemirror_mode": {
    "name": "ipython",
    "version": 3
   },
   "file_extension": ".py",
   "mimetype": "text/x-python",
   "name": "python",
   "nbconvert_exporter": "python",
   "pygments_lexer": "ipython3",
   "version": "3.7.3"
  },
  "pycharm": {
   "stem_cell": {
    "cell_type": "raw",
    "metadata": {
     "collapsed": false
    },
    "source": []
   }
  }
 },
 "nbformat": 4,
 "nbformat_minor": 2
}
